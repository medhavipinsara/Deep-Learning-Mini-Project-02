{
  "nbformat": 4,
  "nbformat_minor": 0,
  "metadata": {
    "colab": {
      "provenance": []
    },
    "kernelspec": {
      "name": "python3",
      "display_name": "Python 3"
    },
    "language_info": {
      "name": "python"
    }
  },
  "cells": [
    {
      "cell_type": "markdown",
      "source": [
        "**COSC 44323- Emerging Technologies in Information Technology**\n",
        "\n",
        "**Mini Project 02 - Stock Price Prediciton System using LSTM Recurrent Neural Networks**\n",
        "\n",
        "**Student Number: PS/2019/091**\n",
        "\n",
        "**Student Name: K. G. M. Pinsara**\n",
        "\n",
        "\n",
        "---\n",
        "\n",
        "\n",
        "\n",
        "\n",
        "\n",
        "\n",
        "\n"
      ],
      "metadata": {
        "id": "_kiFbu2YCLHX"
      }
    },
    {
      "cell_type": "markdown",
      "source": [
        "#Importing Relevant Libraries"
      ],
      "metadata": {
        "id": "Id2OtRd8D0mM"
      }
    },
    {
      "cell_type": "code",
      "source": [
        "import os\n",
        "import datetime\n",
        "import math\n",
        "import numpy as np\n",
        "import pandas as pd\n",
        "import tensorflow as tf\n",
        "import matplotlib.pyplot as plt\n",
        "from sklearn.metrics import mean_squared_error\n",
        "from sklearn.preprocessing import MinMaxScaler\n",
        "from tensorflow.keras.models import Sequential\n",
        "from tensorflow.keras.layers import Dense, LSTM"
      ],
      "metadata": {
        "id": "ZCX9LPNMEAVZ"
      },
      "execution_count": null,
      "outputs": []
    },
    {
      "cell_type": "markdown",
      "source": [
        "#Mounting the Google Drive"
      ],
      "metadata": {
        "id": "Dsk5UXYkEhNK"
      }
    },
    {
      "cell_type": "code",
      "source": [
        "from google.colab import drive\n",
        "drive.mount('/content/drive')"
      ],
      "metadata": {
        "id": "Htq7RUVDEpJl",
        "colab": {
          "base_uri": "https://localhost:8080/"
        },
        "outputId": "960197c8-8140-4d0b-bc55-ef0fd36625d1"
      },
      "execution_count": null,
      "outputs": [
        {
          "output_type": "stream",
          "name": "stdout",
          "text": [
            "Drive already mounted at /content/drive; to attempt to forcibly remount, call drive.mount(\"/content/drive\", force_remount=True).\n"
          ]
        }
      ]
    },
    {
      "cell_type": "markdown",
      "source": [
        "#Changing the Current Working Directory"
      ],
      "metadata": {
        "id": "FMxmuWMVIEBE"
      }
    },
    {
      "cell_type": "code",
      "source": [
        "os.chdir(\"/content/drive/My Drive/Colab_Data_Files/\")\n",
        "os.getcwd()"
      ],
      "metadata": {
        "id": "5bBeA8hlIJJW",
        "colab": {
          "base_uri": "https://localhost:8080/",
          "height": 36
        },
        "outputId": "86ebed7d-5945-4775-96ab-51c0a64e0f92"
      },
      "execution_count": null,
      "outputs": [
        {
          "output_type": "execute_result",
          "data": {
            "text/plain": [
              "'/content/drive/My Drive/Colab_Data_Files'"
            ],
            "application/vnd.google.colaboratory.intrinsic+json": {
              "type": "string"
            }
          },
          "metadata": {},
          "execution_count": 15
        }
      ]
    },
    {
      "cell_type": "markdown",
      "source": [
        "#Loading and Displaying the Dataset"
      ],
      "metadata": {
        "id": "LRlImQAIIL59"
      }
    },
    {
      "cell_type": "code",
      "source": [
        "# Reading the CSV file into a DataFrame named 'df'\n",
        "df = pd.read_csv(\"ABAN.N0000_CSE(2014-2024).csv\")\n",
        "\n",
        "# Displaying DataFrame\n",
        "df"
      ],
      "metadata": {
        "colab": {
          "base_uri": "https://localhost:8080/",
          "height": 423
        },
        "id": "oGgSWV7wqraf",
        "outputId": "bfa9abb0-631b-4aac-9cef-f4e82caad9bd"
      },
      "execution_count": null,
      "outputs": [
        {
          "output_type": "execute_result",
          "data": {
            "text/plain": [
              "            Date   Open   High    Low   Close   Volume\n",
              "0     2014-02-24  101.0  103.0  101.0  101.00      523\n",
              "1     2014-02-25   99.9  102.9   98.6   99.90     2119\n",
              "2     2014-02-26  102.4  102.4   98.5  102.40      529\n",
              "3     2014-02-28  103.8  105.0  101.0  103.80     2535\n",
              "4     2014-03-03  101.1  104.8  101.0  101.10      109\n",
              "...          ...    ...    ...    ...     ...      ...\n",
              "2058  2024-02-16  160.0  165.0  160.0  160.75      384\n",
              "2059  2024-02-19  165.0  165.0  163.0  164.75      298\n",
              "2060  2024-02-20  163.0  164.5  163.0  164.75       32\n",
              "2061  2024-02-21  164.0  164.0  160.5  161.50      313\n",
              "2062  2024-02-22  161.0  161.0  155.5  155.75      391\n",
              "\n",
              "[2063 rows x 6 columns]"
            ],
            "text/html": [
              "\n",
              "  <div id=\"df-8796b010-6442-4a35-b582-4df82cdd571e\" class=\"colab-df-container\">\n",
              "    <div>\n",
              "<style scoped>\n",
              "    .dataframe tbody tr th:only-of-type {\n",
              "        vertical-align: middle;\n",
              "    }\n",
              "\n",
              "    .dataframe tbody tr th {\n",
              "        vertical-align: top;\n",
              "    }\n",
              "\n",
              "    .dataframe thead th {\n",
              "        text-align: right;\n",
              "    }\n",
              "</style>\n",
              "<table border=\"1\" class=\"dataframe\">\n",
              "  <thead>\n",
              "    <tr style=\"text-align: right;\">\n",
              "      <th></th>\n",
              "      <th>Date</th>\n",
              "      <th>Open</th>\n",
              "      <th>High</th>\n",
              "      <th>Low</th>\n",
              "      <th>Close</th>\n",
              "      <th>Volume</th>\n",
              "    </tr>\n",
              "  </thead>\n",
              "  <tbody>\n",
              "    <tr>\n",
              "      <th>0</th>\n",
              "      <td>2014-02-24</td>\n",
              "      <td>101.0</td>\n",
              "      <td>103.0</td>\n",
              "      <td>101.0</td>\n",
              "      <td>101.00</td>\n",
              "      <td>523</td>\n",
              "    </tr>\n",
              "    <tr>\n",
              "      <th>1</th>\n",
              "      <td>2014-02-25</td>\n",
              "      <td>99.9</td>\n",
              "      <td>102.9</td>\n",
              "      <td>98.6</td>\n",
              "      <td>99.90</td>\n",
              "      <td>2119</td>\n",
              "    </tr>\n",
              "    <tr>\n",
              "      <th>2</th>\n",
              "      <td>2014-02-26</td>\n",
              "      <td>102.4</td>\n",
              "      <td>102.4</td>\n",
              "      <td>98.5</td>\n",
              "      <td>102.40</td>\n",
              "      <td>529</td>\n",
              "    </tr>\n",
              "    <tr>\n",
              "      <th>3</th>\n",
              "      <td>2014-02-28</td>\n",
              "      <td>103.8</td>\n",
              "      <td>105.0</td>\n",
              "      <td>101.0</td>\n",
              "      <td>103.80</td>\n",
              "      <td>2535</td>\n",
              "    </tr>\n",
              "    <tr>\n",
              "      <th>4</th>\n",
              "      <td>2014-03-03</td>\n",
              "      <td>101.1</td>\n",
              "      <td>104.8</td>\n",
              "      <td>101.0</td>\n",
              "      <td>101.10</td>\n",
              "      <td>109</td>\n",
              "    </tr>\n",
              "    <tr>\n",
              "      <th>...</th>\n",
              "      <td>...</td>\n",
              "      <td>...</td>\n",
              "      <td>...</td>\n",
              "      <td>...</td>\n",
              "      <td>...</td>\n",
              "      <td>...</td>\n",
              "    </tr>\n",
              "    <tr>\n",
              "      <th>2058</th>\n",
              "      <td>2024-02-16</td>\n",
              "      <td>160.0</td>\n",
              "      <td>165.0</td>\n",
              "      <td>160.0</td>\n",
              "      <td>160.75</td>\n",
              "      <td>384</td>\n",
              "    </tr>\n",
              "    <tr>\n",
              "      <th>2059</th>\n",
              "      <td>2024-02-19</td>\n",
              "      <td>165.0</td>\n",
              "      <td>165.0</td>\n",
              "      <td>163.0</td>\n",
              "      <td>164.75</td>\n",
              "      <td>298</td>\n",
              "    </tr>\n",
              "    <tr>\n",
              "      <th>2060</th>\n",
              "      <td>2024-02-20</td>\n",
              "      <td>163.0</td>\n",
              "      <td>164.5</td>\n",
              "      <td>163.0</td>\n",
              "      <td>164.75</td>\n",
              "      <td>32</td>\n",
              "    </tr>\n",
              "    <tr>\n",
              "      <th>2061</th>\n",
              "      <td>2024-02-21</td>\n",
              "      <td>164.0</td>\n",
              "      <td>164.0</td>\n",
              "      <td>160.5</td>\n",
              "      <td>161.50</td>\n",
              "      <td>313</td>\n",
              "    </tr>\n",
              "    <tr>\n",
              "      <th>2062</th>\n",
              "      <td>2024-02-22</td>\n",
              "      <td>161.0</td>\n",
              "      <td>161.0</td>\n",
              "      <td>155.5</td>\n",
              "      <td>155.75</td>\n",
              "      <td>391</td>\n",
              "    </tr>\n",
              "  </tbody>\n",
              "</table>\n",
              "<p>2063 rows × 6 columns</p>\n",
              "</div>\n",
              "    <div class=\"colab-df-buttons\">\n",
              "\n",
              "  <div class=\"colab-df-container\">\n",
              "    <button class=\"colab-df-convert\" onclick=\"convertToInteractive('df-8796b010-6442-4a35-b582-4df82cdd571e')\"\n",
              "            title=\"Convert this dataframe to an interactive table.\"\n",
              "            style=\"display:none;\">\n",
              "\n",
              "  <svg xmlns=\"http://www.w3.org/2000/svg\" height=\"24px\" viewBox=\"0 -960 960 960\">\n",
              "    <path d=\"M120-120v-720h720v720H120Zm60-500h600v-160H180v160Zm220 220h160v-160H400v160Zm0 220h160v-160H400v160ZM180-400h160v-160H180v160Zm440 0h160v-160H620v160ZM180-180h160v-160H180v160Zm440 0h160v-160H620v160Z\"/>\n",
              "  </svg>\n",
              "    </button>\n",
              "\n",
              "  <style>\n",
              "    .colab-df-container {\n",
              "      display:flex;\n",
              "      gap: 12px;\n",
              "    }\n",
              "\n",
              "    .colab-df-convert {\n",
              "      background-color: #E8F0FE;\n",
              "      border: none;\n",
              "      border-radius: 50%;\n",
              "      cursor: pointer;\n",
              "      display: none;\n",
              "      fill: #1967D2;\n",
              "      height: 32px;\n",
              "      padding: 0 0 0 0;\n",
              "      width: 32px;\n",
              "    }\n",
              "\n",
              "    .colab-df-convert:hover {\n",
              "      background-color: #E2EBFA;\n",
              "      box-shadow: 0px 1px 2px rgba(60, 64, 67, 0.3), 0px 1px 3px 1px rgba(60, 64, 67, 0.15);\n",
              "      fill: #174EA6;\n",
              "    }\n",
              "\n",
              "    .colab-df-buttons div {\n",
              "      margin-bottom: 4px;\n",
              "    }\n",
              "\n",
              "    [theme=dark] .colab-df-convert {\n",
              "      background-color: #3B4455;\n",
              "      fill: #D2E3FC;\n",
              "    }\n",
              "\n",
              "    [theme=dark] .colab-df-convert:hover {\n",
              "      background-color: #434B5C;\n",
              "      box-shadow: 0px 1px 3px 1px rgba(0, 0, 0, 0.15);\n",
              "      filter: drop-shadow(0px 1px 2px rgba(0, 0, 0, 0.3));\n",
              "      fill: #FFFFFF;\n",
              "    }\n",
              "  </style>\n",
              "\n",
              "    <script>\n",
              "      const buttonEl =\n",
              "        document.querySelector('#df-8796b010-6442-4a35-b582-4df82cdd571e button.colab-df-convert');\n",
              "      buttonEl.style.display =\n",
              "        google.colab.kernel.accessAllowed ? 'block' : 'none';\n",
              "\n",
              "      async function convertToInteractive(key) {\n",
              "        const element = document.querySelector('#df-8796b010-6442-4a35-b582-4df82cdd571e');\n",
              "        const dataTable =\n",
              "          await google.colab.kernel.invokeFunction('convertToInteractive',\n",
              "                                                    [key], {});\n",
              "        if (!dataTable) return;\n",
              "\n",
              "        const docLinkHtml = 'Like what you see? Visit the ' +\n",
              "          '<a target=\"_blank\" href=https://colab.research.google.com/notebooks/data_table.ipynb>data table notebook</a>'\n",
              "          + ' to learn more about interactive tables.';\n",
              "        element.innerHTML = '';\n",
              "        dataTable['output_type'] = 'display_data';\n",
              "        await google.colab.output.renderOutput(dataTable, element);\n",
              "        const docLink = document.createElement('div');\n",
              "        docLink.innerHTML = docLinkHtml;\n",
              "        element.appendChild(docLink);\n",
              "      }\n",
              "    </script>\n",
              "  </div>\n",
              "\n",
              "\n",
              "<div id=\"df-9290328b-f5ad-4107-91c1-0024f0b65d9a\">\n",
              "  <button class=\"colab-df-quickchart\" onclick=\"quickchart('df-9290328b-f5ad-4107-91c1-0024f0b65d9a')\"\n",
              "            title=\"Suggest charts\"\n",
              "            style=\"display:none;\">\n",
              "\n",
              "<svg xmlns=\"http://www.w3.org/2000/svg\" height=\"24px\"viewBox=\"0 0 24 24\"\n",
              "     width=\"24px\">\n",
              "    <g>\n",
              "        <path d=\"M19 3H5c-1.1 0-2 .9-2 2v14c0 1.1.9 2 2 2h14c1.1 0 2-.9 2-2V5c0-1.1-.9-2-2-2zM9 17H7v-7h2v7zm4 0h-2V7h2v10zm4 0h-2v-4h2v4z\"/>\n",
              "    </g>\n",
              "</svg>\n",
              "  </button>\n",
              "\n",
              "<style>\n",
              "  .colab-df-quickchart {\n",
              "      --bg-color: #E8F0FE;\n",
              "      --fill-color: #1967D2;\n",
              "      --hover-bg-color: #E2EBFA;\n",
              "      --hover-fill-color: #174EA6;\n",
              "      --disabled-fill-color: #AAA;\n",
              "      --disabled-bg-color: #DDD;\n",
              "  }\n",
              "\n",
              "  [theme=dark] .colab-df-quickchart {\n",
              "      --bg-color: #3B4455;\n",
              "      --fill-color: #D2E3FC;\n",
              "      --hover-bg-color: #434B5C;\n",
              "      --hover-fill-color: #FFFFFF;\n",
              "      --disabled-bg-color: #3B4455;\n",
              "      --disabled-fill-color: #666;\n",
              "  }\n",
              "\n",
              "  .colab-df-quickchart {\n",
              "    background-color: var(--bg-color);\n",
              "    border: none;\n",
              "    border-radius: 50%;\n",
              "    cursor: pointer;\n",
              "    display: none;\n",
              "    fill: var(--fill-color);\n",
              "    height: 32px;\n",
              "    padding: 0;\n",
              "    width: 32px;\n",
              "  }\n",
              "\n",
              "  .colab-df-quickchart:hover {\n",
              "    background-color: var(--hover-bg-color);\n",
              "    box-shadow: 0 1px 2px rgba(60, 64, 67, 0.3), 0 1px 3px 1px rgba(60, 64, 67, 0.15);\n",
              "    fill: var(--button-hover-fill-color);\n",
              "  }\n",
              "\n",
              "  .colab-df-quickchart-complete:disabled,\n",
              "  .colab-df-quickchart-complete:disabled:hover {\n",
              "    background-color: var(--disabled-bg-color);\n",
              "    fill: var(--disabled-fill-color);\n",
              "    box-shadow: none;\n",
              "  }\n",
              "\n",
              "  .colab-df-spinner {\n",
              "    border: 2px solid var(--fill-color);\n",
              "    border-color: transparent;\n",
              "    border-bottom-color: var(--fill-color);\n",
              "    animation:\n",
              "      spin 1s steps(1) infinite;\n",
              "  }\n",
              "\n",
              "  @keyframes spin {\n",
              "    0% {\n",
              "      border-color: transparent;\n",
              "      border-bottom-color: var(--fill-color);\n",
              "      border-left-color: var(--fill-color);\n",
              "    }\n",
              "    20% {\n",
              "      border-color: transparent;\n",
              "      border-left-color: var(--fill-color);\n",
              "      border-top-color: var(--fill-color);\n",
              "    }\n",
              "    30% {\n",
              "      border-color: transparent;\n",
              "      border-left-color: var(--fill-color);\n",
              "      border-top-color: var(--fill-color);\n",
              "      border-right-color: var(--fill-color);\n",
              "    }\n",
              "    40% {\n",
              "      border-color: transparent;\n",
              "      border-right-color: var(--fill-color);\n",
              "      border-top-color: var(--fill-color);\n",
              "    }\n",
              "    60% {\n",
              "      border-color: transparent;\n",
              "      border-right-color: var(--fill-color);\n",
              "    }\n",
              "    80% {\n",
              "      border-color: transparent;\n",
              "      border-right-color: var(--fill-color);\n",
              "      border-bottom-color: var(--fill-color);\n",
              "    }\n",
              "    90% {\n",
              "      border-color: transparent;\n",
              "      border-bottom-color: var(--fill-color);\n",
              "    }\n",
              "  }\n",
              "</style>\n",
              "\n",
              "  <script>\n",
              "    async function quickchart(key) {\n",
              "      const quickchartButtonEl =\n",
              "        document.querySelector('#' + key + ' button');\n",
              "      quickchartButtonEl.disabled = true;  // To prevent multiple clicks.\n",
              "      quickchartButtonEl.classList.add('colab-df-spinner');\n",
              "      try {\n",
              "        const charts = await google.colab.kernel.invokeFunction(\n",
              "            'suggestCharts', [key], {});\n",
              "      } catch (error) {\n",
              "        console.error('Error during call to suggestCharts:', error);\n",
              "      }\n",
              "      quickchartButtonEl.classList.remove('colab-df-spinner');\n",
              "      quickchartButtonEl.classList.add('colab-df-quickchart-complete');\n",
              "    }\n",
              "    (() => {\n",
              "      let quickchartButtonEl =\n",
              "        document.querySelector('#df-9290328b-f5ad-4107-91c1-0024f0b65d9a button');\n",
              "      quickchartButtonEl.style.display =\n",
              "        google.colab.kernel.accessAllowed ? 'block' : 'none';\n",
              "    })();\n",
              "  </script>\n",
              "</div>\n",
              "\n",
              "  <div id=\"id_959cd091-a2cf-468f-9fe2-e99091e457c4\">\n",
              "    <style>\n",
              "      .colab-df-generate {\n",
              "        background-color: #E8F0FE;\n",
              "        border: none;\n",
              "        border-radius: 50%;\n",
              "        cursor: pointer;\n",
              "        display: none;\n",
              "        fill: #1967D2;\n",
              "        height: 32px;\n",
              "        padding: 0 0 0 0;\n",
              "        width: 32px;\n",
              "      }\n",
              "\n",
              "      .colab-df-generate:hover {\n",
              "        background-color: #E2EBFA;\n",
              "        box-shadow: 0px 1px 2px rgba(60, 64, 67, 0.3), 0px 1px 3px 1px rgba(60, 64, 67, 0.15);\n",
              "        fill: #174EA6;\n",
              "      }\n",
              "\n",
              "      [theme=dark] .colab-df-generate {\n",
              "        background-color: #3B4455;\n",
              "        fill: #D2E3FC;\n",
              "      }\n",
              "\n",
              "      [theme=dark] .colab-df-generate:hover {\n",
              "        background-color: #434B5C;\n",
              "        box-shadow: 0px 1px 3px 1px rgba(0, 0, 0, 0.15);\n",
              "        filter: drop-shadow(0px 1px 2px rgba(0, 0, 0, 0.3));\n",
              "        fill: #FFFFFF;\n",
              "      }\n",
              "    </style>\n",
              "    <button class=\"colab-df-generate\" onclick=\"generateWithVariable('df')\"\n",
              "            title=\"Generate code using this dataframe.\"\n",
              "            style=\"display:none;\">\n",
              "\n",
              "  <svg xmlns=\"http://www.w3.org/2000/svg\" height=\"24px\"viewBox=\"0 0 24 24\"\n",
              "       width=\"24px\">\n",
              "    <path d=\"M7,19H8.4L18.45,9,17,7.55,7,17.6ZM5,21V16.75L18.45,3.32a2,2,0,0,1,2.83,0l1.4,1.43a1.91,1.91,0,0,1,.58,1.4,1.91,1.91,0,0,1-.58,1.4L9.25,21ZM18.45,9,17,7.55Zm-12,3A5.31,5.31,0,0,0,4.9,8.1,5.31,5.31,0,0,0,1,6.5,5.31,5.31,0,0,0,4.9,4.9,5.31,5.31,0,0,0,6.5,1,5.31,5.31,0,0,0,8.1,4.9,5.31,5.31,0,0,0,12,6.5,5.46,5.46,0,0,0,6.5,12Z\"/>\n",
              "  </svg>\n",
              "    </button>\n",
              "    <script>\n",
              "      (() => {\n",
              "      const buttonEl =\n",
              "        document.querySelector('#id_959cd091-a2cf-468f-9fe2-e99091e457c4 button.colab-df-generate');\n",
              "      buttonEl.style.display =\n",
              "        google.colab.kernel.accessAllowed ? 'block' : 'none';\n",
              "\n",
              "      buttonEl.onclick = () => {\n",
              "        google.colab.notebook.generateWithVariable('df');\n",
              "      }\n",
              "      })();\n",
              "    </script>\n",
              "  </div>\n",
              "\n",
              "    </div>\n",
              "  </div>\n"
            ],
            "application/vnd.google.colaboratory.intrinsic+json": {
              "type": "dataframe",
              "variable_name": "df",
              "repr_error": "'str' object has no attribute 'empty'"
            }
          },
          "metadata": {},
          "execution_count": 16
        }
      ]
    },
    {
      "cell_type": "code",
      "source": [
        "df = df[['Date', ' Close']]\n",
        "df"
      ],
      "metadata": {
        "colab": {
          "base_uri": "https://localhost:8080/",
          "height": 423
        },
        "id": "mHVpwdJGuk4f",
        "outputId": "8c2bf204-c9b5-43b7-cec9-0e819b0dc1d5"
      },
      "execution_count": null,
      "outputs": [
        {
          "output_type": "execute_result",
          "data": {
            "text/plain": [
              "            Date   Close\n",
              "0     2014-02-24  101.00\n",
              "1     2014-02-25   99.90\n",
              "2     2014-02-26  102.40\n",
              "3     2014-02-28  103.80\n",
              "4     2014-03-03  101.10\n",
              "...          ...     ...\n",
              "2058  2024-02-16  160.75\n",
              "2059  2024-02-19  164.75\n",
              "2060  2024-02-20  164.75\n",
              "2061  2024-02-21  161.50\n",
              "2062  2024-02-22  155.75\n",
              "\n",
              "[2063 rows x 2 columns]"
            ],
            "text/html": [
              "\n",
              "  <div id=\"df-cdc51686-6511-4740-8c28-3e8ef4a265de\" class=\"colab-df-container\">\n",
              "    <div>\n",
              "<style scoped>\n",
              "    .dataframe tbody tr th:only-of-type {\n",
              "        vertical-align: middle;\n",
              "    }\n",
              "\n",
              "    .dataframe tbody tr th {\n",
              "        vertical-align: top;\n",
              "    }\n",
              "\n",
              "    .dataframe thead th {\n",
              "        text-align: right;\n",
              "    }\n",
              "</style>\n",
              "<table border=\"1\" class=\"dataframe\">\n",
              "  <thead>\n",
              "    <tr style=\"text-align: right;\">\n",
              "      <th></th>\n",
              "      <th>Date</th>\n",
              "      <th>Close</th>\n",
              "    </tr>\n",
              "  </thead>\n",
              "  <tbody>\n",
              "    <tr>\n",
              "      <th>0</th>\n",
              "      <td>2014-02-24</td>\n",
              "      <td>101.00</td>\n",
              "    </tr>\n",
              "    <tr>\n",
              "      <th>1</th>\n",
              "      <td>2014-02-25</td>\n",
              "      <td>99.90</td>\n",
              "    </tr>\n",
              "    <tr>\n",
              "      <th>2</th>\n",
              "      <td>2014-02-26</td>\n",
              "      <td>102.40</td>\n",
              "    </tr>\n",
              "    <tr>\n",
              "      <th>3</th>\n",
              "      <td>2014-02-28</td>\n",
              "      <td>103.80</td>\n",
              "    </tr>\n",
              "    <tr>\n",
              "      <th>4</th>\n",
              "      <td>2014-03-03</td>\n",
              "      <td>101.10</td>\n",
              "    </tr>\n",
              "    <tr>\n",
              "      <th>...</th>\n",
              "      <td>...</td>\n",
              "      <td>...</td>\n",
              "    </tr>\n",
              "    <tr>\n",
              "      <th>2058</th>\n",
              "      <td>2024-02-16</td>\n",
              "      <td>160.75</td>\n",
              "    </tr>\n",
              "    <tr>\n",
              "      <th>2059</th>\n",
              "      <td>2024-02-19</td>\n",
              "      <td>164.75</td>\n",
              "    </tr>\n",
              "    <tr>\n",
              "      <th>2060</th>\n",
              "      <td>2024-02-20</td>\n",
              "      <td>164.75</td>\n",
              "    </tr>\n",
              "    <tr>\n",
              "      <th>2061</th>\n",
              "      <td>2024-02-21</td>\n",
              "      <td>161.50</td>\n",
              "    </tr>\n",
              "    <tr>\n",
              "      <th>2062</th>\n",
              "      <td>2024-02-22</td>\n",
              "      <td>155.75</td>\n",
              "    </tr>\n",
              "  </tbody>\n",
              "</table>\n",
              "<p>2063 rows × 2 columns</p>\n",
              "</div>\n",
              "    <div class=\"colab-df-buttons\">\n",
              "\n",
              "  <div class=\"colab-df-container\">\n",
              "    <button class=\"colab-df-convert\" onclick=\"convertToInteractive('df-cdc51686-6511-4740-8c28-3e8ef4a265de')\"\n",
              "            title=\"Convert this dataframe to an interactive table.\"\n",
              "            style=\"display:none;\">\n",
              "\n",
              "  <svg xmlns=\"http://www.w3.org/2000/svg\" height=\"24px\" viewBox=\"0 -960 960 960\">\n",
              "    <path d=\"M120-120v-720h720v720H120Zm60-500h600v-160H180v160Zm220 220h160v-160H400v160Zm0 220h160v-160H400v160ZM180-400h160v-160H180v160Zm440 0h160v-160H620v160ZM180-180h160v-160H180v160Zm440 0h160v-160H620v160Z\"/>\n",
              "  </svg>\n",
              "    </button>\n",
              "\n",
              "  <style>\n",
              "    .colab-df-container {\n",
              "      display:flex;\n",
              "      gap: 12px;\n",
              "    }\n",
              "\n",
              "    .colab-df-convert {\n",
              "      background-color: #E8F0FE;\n",
              "      border: none;\n",
              "      border-radius: 50%;\n",
              "      cursor: pointer;\n",
              "      display: none;\n",
              "      fill: #1967D2;\n",
              "      height: 32px;\n",
              "      padding: 0 0 0 0;\n",
              "      width: 32px;\n",
              "    }\n",
              "\n",
              "    .colab-df-convert:hover {\n",
              "      background-color: #E2EBFA;\n",
              "      box-shadow: 0px 1px 2px rgba(60, 64, 67, 0.3), 0px 1px 3px 1px rgba(60, 64, 67, 0.15);\n",
              "      fill: #174EA6;\n",
              "    }\n",
              "\n",
              "    .colab-df-buttons div {\n",
              "      margin-bottom: 4px;\n",
              "    }\n",
              "\n",
              "    [theme=dark] .colab-df-convert {\n",
              "      background-color: #3B4455;\n",
              "      fill: #D2E3FC;\n",
              "    }\n",
              "\n",
              "    [theme=dark] .colab-df-convert:hover {\n",
              "      background-color: #434B5C;\n",
              "      box-shadow: 0px 1px 3px 1px rgba(0, 0, 0, 0.15);\n",
              "      filter: drop-shadow(0px 1px 2px rgba(0, 0, 0, 0.3));\n",
              "      fill: #FFFFFF;\n",
              "    }\n",
              "  </style>\n",
              "\n",
              "    <script>\n",
              "      const buttonEl =\n",
              "        document.querySelector('#df-cdc51686-6511-4740-8c28-3e8ef4a265de button.colab-df-convert');\n",
              "      buttonEl.style.display =\n",
              "        google.colab.kernel.accessAllowed ? 'block' : 'none';\n",
              "\n",
              "      async function convertToInteractive(key) {\n",
              "        const element = document.querySelector('#df-cdc51686-6511-4740-8c28-3e8ef4a265de');\n",
              "        const dataTable =\n",
              "          await google.colab.kernel.invokeFunction('convertToInteractive',\n",
              "                                                    [key], {});\n",
              "        if (!dataTable) return;\n",
              "\n",
              "        const docLinkHtml = 'Like what you see? Visit the ' +\n",
              "          '<a target=\"_blank\" href=https://colab.research.google.com/notebooks/data_table.ipynb>data table notebook</a>'\n",
              "          + ' to learn more about interactive tables.';\n",
              "        element.innerHTML = '';\n",
              "        dataTable['output_type'] = 'display_data';\n",
              "        await google.colab.output.renderOutput(dataTable, element);\n",
              "        const docLink = document.createElement('div');\n",
              "        docLink.innerHTML = docLinkHtml;\n",
              "        element.appendChild(docLink);\n",
              "      }\n",
              "    </script>\n",
              "  </div>\n",
              "\n",
              "\n",
              "<div id=\"df-1edaf0e0-e394-452a-9464-8ab170767fdf\">\n",
              "  <button class=\"colab-df-quickchart\" onclick=\"quickchart('df-1edaf0e0-e394-452a-9464-8ab170767fdf')\"\n",
              "            title=\"Suggest charts\"\n",
              "            style=\"display:none;\">\n",
              "\n",
              "<svg xmlns=\"http://www.w3.org/2000/svg\" height=\"24px\"viewBox=\"0 0 24 24\"\n",
              "     width=\"24px\">\n",
              "    <g>\n",
              "        <path d=\"M19 3H5c-1.1 0-2 .9-2 2v14c0 1.1.9 2 2 2h14c1.1 0 2-.9 2-2V5c0-1.1-.9-2-2-2zM9 17H7v-7h2v7zm4 0h-2V7h2v10zm4 0h-2v-4h2v4z\"/>\n",
              "    </g>\n",
              "</svg>\n",
              "  </button>\n",
              "\n",
              "<style>\n",
              "  .colab-df-quickchart {\n",
              "      --bg-color: #E8F0FE;\n",
              "      --fill-color: #1967D2;\n",
              "      --hover-bg-color: #E2EBFA;\n",
              "      --hover-fill-color: #174EA6;\n",
              "      --disabled-fill-color: #AAA;\n",
              "      --disabled-bg-color: #DDD;\n",
              "  }\n",
              "\n",
              "  [theme=dark] .colab-df-quickchart {\n",
              "      --bg-color: #3B4455;\n",
              "      --fill-color: #D2E3FC;\n",
              "      --hover-bg-color: #434B5C;\n",
              "      --hover-fill-color: #FFFFFF;\n",
              "      --disabled-bg-color: #3B4455;\n",
              "      --disabled-fill-color: #666;\n",
              "  }\n",
              "\n",
              "  .colab-df-quickchart {\n",
              "    background-color: var(--bg-color);\n",
              "    border: none;\n",
              "    border-radius: 50%;\n",
              "    cursor: pointer;\n",
              "    display: none;\n",
              "    fill: var(--fill-color);\n",
              "    height: 32px;\n",
              "    padding: 0;\n",
              "    width: 32px;\n",
              "  }\n",
              "\n",
              "  .colab-df-quickchart:hover {\n",
              "    background-color: var(--hover-bg-color);\n",
              "    box-shadow: 0 1px 2px rgba(60, 64, 67, 0.3), 0 1px 3px 1px rgba(60, 64, 67, 0.15);\n",
              "    fill: var(--button-hover-fill-color);\n",
              "  }\n",
              "\n",
              "  .colab-df-quickchart-complete:disabled,\n",
              "  .colab-df-quickchart-complete:disabled:hover {\n",
              "    background-color: var(--disabled-bg-color);\n",
              "    fill: var(--disabled-fill-color);\n",
              "    box-shadow: none;\n",
              "  }\n",
              "\n",
              "  .colab-df-spinner {\n",
              "    border: 2px solid var(--fill-color);\n",
              "    border-color: transparent;\n",
              "    border-bottom-color: var(--fill-color);\n",
              "    animation:\n",
              "      spin 1s steps(1) infinite;\n",
              "  }\n",
              "\n",
              "  @keyframes spin {\n",
              "    0% {\n",
              "      border-color: transparent;\n",
              "      border-bottom-color: var(--fill-color);\n",
              "      border-left-color: var(--fill-color);\n",
              "    }\n",
              "    20% {\n",
              "      border-color: transparent;\n",
              "      border-left-color: var(--fill-color);\n",
              "      border-top-color: var(--fill-color);\n",
              "    }\n",
              "    30% {\n",
              "      border-color: transparent;\n",
              "      border-left-color: var(--fill-color);\n",
              "      border-top-color: var(--fill-color);\n",
              "      border-right-color: var(--fill-color);\n",
              "    }\n",
              "    40% {\n",
              "      border-color: transparent;\n",
              "      border-right-color: var(--fill-color);\n",
              "      border-top-color: var(--fill-color);\n",
              "    }\n",
              "    60% {\n",
              "      border-color: transparent;\n",
              "      border-right-color: var(--fill-color);\n",
              "    }\n",
              "    80% {\n",
              "      border-color: transparent;\n",
              "      border-right-color: var(--fill-color);\n",
              "      border-bottom-color: var(--fill-color);\n",
              "    }\n",
              "    90% {\n",
              "      border-color: transparent;\n",
              "      border-bottom-color: var(--fill-color);\n",
              "    }\n",
              "  }\n",
              "</style>\n",
              "\n",
              "  <script>\n",
              "    async function quickchart(key) {\n",
              "      const quickchartButtonEl =\n",
              "        document.querySelector('#' + key + ' button');\n",
              "      quickchartButtonEl.disabled = true;  // To prevent multiple clicks.\n",
              "      quickchartButtonEl.classList.add('colab-df-spinner');\n",
              "      try {\n",
              "        const charts = await google.colab.kernel.invokeFunction(\n",
              "            'suggestCharts', [key], {});\n",
              "      } catch (error) {\n",
              "        console.error('Error during call to suggestCharts:', error);\n",
              "      }\n",
              "      quickchartButtonEl.classList.remove('colab-df-spinner');\n",
              "      quickchartButtonEl.classList.add('colab-df-quickchart-complete');\n",
              "    }\n",
              "    (() => {\n",
              "      let quickchartButtonEl =\n",
              "        document.querySelector('#df-1edaf0e0-e394-452a-9464-8ab170767fdf button');\n",
              "      quickchartButtonEl.style.display =\n",
              "        google.colab.kernel.accessAllowed ? 'block' : 'none';\n",
              "    })();\n",
              "  </script>\n",
              "</div>\n",
              "\n",
              "  <div id=\"id_41f0955f-7182-4e08-9e75-ef6a4c40328b\">\n",
              "    <style>\n",
              "      .colab-df-generate {\n",
              "        background-color: #E8F0FE;\n",
              "        border: none;\n",
              "        border-radius: 50%;\n",
              "        cursor: pointer;\n",
              "        display: none;\n",
              "        fill: #1967D2;\n",
              "        height: 32px;\n",
              "        padding: 0 0 0 0;\n",
              "        width: 32px;\n",
              "      }\n",
              "\n",
              "      .colab-df-generate:hover {\n",
              "        background-color: #E2EBFA;\n",
              "        box-shadow: 0px 1px 2px rgba(60, 64, 67, 0.3), 0px 1px 3px 1px rgba(60, 64, 67, 0.15);\n",
              "        fill: #174EA6;\n",
              "      }\n",
              "\n",
              "      [theme=dark] .colab-df-generate {\n",
              "        background-color: #3B4455;\n",
              "        fill: #D2E3FC;\n",
              "      }\n",
              "\n",
              "      [theme=dark] .colab-df-generate:hover {\n",
              "        background-color: #434B5C;\n",
              "        box-shadow: 0px 1px 3px 1px rgba(0, 0, 0, 0.15);\n",
              "        filter: drop-shadow(0px 1px 2px rgba(0, 0, 0, 0.3));\n",
              "        fill: #FFFFFF;\n",
              "      }\n",
              "    </style>\n",
              "    <button class=\"colab-df-generate\" onclick=\"generateWithVariable('df')\"\n",
              "            title=\"Generate code using this dataframe.\"\n",
              "            style=\"display:none;\">\n",
              "\n",
              "  <svg xmlns=\"http://www.w3.org/2000/svg\" height=\"24px\"viewBox=\"0 0 24 24\"\n",
              "       width=\"24px\">\n",
              "    <path d=\"M7,19H8.4L18.45,9,17,7.55,7,17.6ZM5,21V16.75L18.45,3.32a2,2,0,0,1,2.83,0l1.4,1.43a1.91,1.91,0,0,1,.58,1.4,1.91,1.91,0,0,1-.58,1.4L9.25,21ZM18.45,9,17,7.55Zm-12,3A5.31,5.31,0,0,0,4.9,8.1,5.31,5.31,0,0,0,1,6.5,5.31,5.31,0,0,0,4.9,4.9,5.31,5.31,0,0,0,6.5,1,5.31,5.31,0,0,0,8.1,4.9,5.31,5.31,0,0,0,12,6.5,5.46,5.46,0,0,0,6.5,12Z\"/>\n",
              "  </svg>\n",
              "    </button>\n",
              "    <script>\n",
              "      (() => {\n",
              "      const buttonEl =\n",
              "        document.querySelector('#id_41f0955f-7182-4e08-9e75-ef6a4c40328b button.colab-df-generate');\n",
              "      buttonEl.style.display =\n",
              "        google.colab.kernel.accessAllowed ? 'block' : 'none';\n",
              "\n",
              "      buttonEl.onclick = () => {\n",
              "        google.colab.notebook.generateWithVariable('df');\n",
              "      }\n",
              "      })();\n",
              "    </script>\n",
              "  </div>\n",
              "\n",
              "    </div>\n",
              "  </div>\n"
            ],
            "application/vnd.google.colaboratory.intrinsic+json": {
              "type": "dataframe",
              "variable_name": "df",
              "repr_error": "'str' object has no attribute 'empty'"
            }
          },
          "metadata": {},
          "execution_count": 17
        }
      ]
    },
    {
      "cell_type": "code",
      "source": [
        "def str_to_datetime(s):\n",
        "  split = s.split('-')\n",
        "  year, month, day = int(split[0]), int(split[1]), int(split[2])\n",
        "  return datetime.datetime(year=year, month=month, day=day)\n",
        "\n",
        "datetime_object = str_to_datetime('2024-02-24')\n",
        "datetime_object"
      ],
      "metadata": {
        "colab": {
          "base_uri": "https://localhost:8080/"
        },
        "id": "4mUdH_3Gv6qs",
        "outputId": "a66dedd6-7b3f-4425-85b9-06694e36955f"
      },
      "execution_count": null,
      "outputs": [
        {
          "output_type": "execute_result",
          "data": {
            "text/plain": [
              "datetime.datetime(2024, 2, 24, 0, 0)"
            ]
          },
          "metadata": {},
          "execution_count": 18
        }
      ]
    },
    {
      "cell_type": "code",
      "source": [
        "df['Date'] = df['Date'].apply(str_to_datetime)\n",
        "df['Date']"
      ],
      "metadata": {
        "colab": {
          "base_uri": "https://localhost:8080/"
        },
        "id": "uA4v4zxUxJDp",
        "outputId": "bd93c2fa-41c0-4e41-e859-6b6ce6ff10e6"
      },
      "execution_count": null,
      "outputs": [
        {
          "output_type": "stream",
          "name": "stderr",
          "text": [
            "<ipython-input-19-f6fc52bb0fa5>:1: SettingWithCopyWarning: \n",
            "A value is trying to be set on a copy of a slice from a DataFrame.\n",
            "Try using .loc[row_indexer,col_indexer] = value instead\n",
            "\n",
            "See the caveats in the documentation: https://pandas.pydata.org/pandas-docs/stable/user_guide/indexing.html#returning-a-view-versus-a-copy\n",
            "  df['Date'] = df['Date'].apply(str_to_datetime)\n"
          ]
        },
        {
          "output_type": "execute_result",
          "data": {
            "text/plain": [
              "0      2014-02-24\n",
              "1      2014-02-25\n",
              "2      2014-02-26\n",
              "3      2014-02-28\n",
              "4      2014-03-03\n",
              "          ...    \n",
              "2058   2024-02-16\n",
              "2059   2024-02-19\n",
              "2060   2024-02-20\n",
              "2061   2024-02-21\n",
              "2062   2024-02-22\n",
              "Name: Date, Length: 2063, dtype: datetime64[ns]"
            ]
          },
          "metadata": {},
          "execution_count": 19
        }
      ]
    },
    {
      "cell_type": "code",
      "source": [
        "df.index = df.pop('Date')\n",
        "df"
      ],
      "metadata": {
        "colab": {
          "base_uri": "https://localhost:8080/",
          "height": 455
        },
        "id": "PS6Iy7I4Bslw",
        "outputId": "4b60de8a-71f4-4a95-adb4-3b24c6ff9f85"
      },
      "execution_count": null,
      "outputs": [
        {
          "output_type": "execute_result",
          "data": {
            "text/plain": [
              "             Close\n",
              "Date              \n",
              "2014-02-24  101.00\n",
              "2014-02-25   99.90\n",
              "2014-02-26  102.40\n",
              "2014-02-28  103.80\n",
              "2014-03-03  101.10\n",
              "...            ...\n",
              "2024-02-16  160.75\n",
              "2024-02-19  164.75\n",
              "2024-02-20  164.75\n",
              "2024-02-21  161.50\n",
              "2024-02-22  155.75\n",
              "\n",
              "[2063 rows x 1 columns]"
            ],
            "text/html": [
              "\n",
              "  <div id=\"df-f9eb39fc-0d84-43e6-af6b-4337df0eb48a\" class=\"colab-df-container\">\n",
              "    <div>\n",
              "<style scoped>\n",
              "    .dataframe tbody tr th:only-of-type {\n",
              "        vertical-align: middle;\n",
              "    }\n",
              "\n",
              "    .dataframe tbody tr th {\n",
              "        vertical-align: top;\n",
              "    }\n",
              "\n",
              "    .dataframe thead th {\n",
              "        text-align: right;\n",
              "    }\n",
              "</style>\n",
              "<table border=\"1\" class=\"dataframe\">\n",
              "  <thead>\n",
              "    <tr style=\"text-align: right;\">\n",
              "      <th></th>\n",
              "      <th>Close</th>\n",
              "    </tr>\n",
              "    <tr>\n",
              "      <th>Date</th>\n",
              "      <th></th>\n",
              "    </tr>\n",
              "  </thead>\n",
              "  <tbody>\n",
              "    <tr>\n",
              "      <th>2014-02-24</th>\n",
              "      <td>101.00</td>\n",
              "    </tr>\n",
              "    <tr>\n",
              "      <th>2014-02-25</th>\n",
              "      <td>99.90</td>\n",
              "    </tr>\n",
              "    <tr>\n",
              "      <th>2014-02-26</th>\n",
              "      <td>102.40</td>\n",
              "    </tr>\n",
              "    <tr>\n",
              "      <th>2014-02-28</th>\n",
              "      <td>103.80</td>\n",
              "    </tr>\n",
              "    <tr>\n",
              "      <th>2014-03-03</th>\n",
              "      <td>101.10</td>\n",
              "    </tr>\n",
              "    <tr>\n",
              "      <th>...</th>\n",
              "      <td>...</td>\n",
              "    </tr>\n",
              "    <tr>\n",
              "      <th>2024-02-16</th>\n",
              "      <td>160.75</td>\n",
              "    </tr>\n",
              "    <tr>\n",
              "      <th>2024-02-19</th>\n",
              "      <td>164.75</td>\n",
              "    </tr>\n",
              "    <tr>\n",
              "      <th>2024-02-20</th>\n",
              "      <td>164.75</td>\n",
              "    </tr>\n",
              "    <tr>\n",
              "      <th>2024-02-21</th>\n",
              "      <td>161.50</td>\n",
              "    </tr>\n",
              "    <tr>\n",
              "      <th>2024-02-22</th>\n",
              "      <td>155.75</td>\n",
              "    </tr>\n",
              "  </tbody>\n",
              "</table>\n",
              "<p>2063 rows × 1 columns</p>\n",
              "</div>\n",
              "    <div class=\"colab-df-buttons\">\n",
              "\n",
              "  <div class=\"colab-df-container\">\n",
              "    <button class=\"colab-df-convert\" onclick=\"convertToInteractive('df-f9eb39fc-0d84-43e6-af6b-4337df0eb48a')\"\n",
              "            title=\"Convert this dataframe to an interactive table.\"\n",
              "            style=\"display:none;\">\n",
              "\n",
              "  <svg xmlns=\"http://www.w3.org/2000/svg\" height=\"24px\" viewBox=\"0 -960 960 960\">\n",
              "    <path d=\"M120-120v-720h720v720H120Zm60-500h600v-160H180v160Zm220 220h160v-160H400v160Zm0 220h160v-160H400v160ZM180-400h160v-160H180v160Zm440 0h160v-160H620v160ZM180-180h160v-160H180v160Zm440 0h160v-160H620v160Z\"/>\n",
              "  </svg>\n",
              "    </button>\n",
              "\n",
              "  <style>\n",
              "    .colab-df-container {\n",
              "      display:flex;\n",
              "      gap: 12px;\n",
              "    }\n",
              "\n",
              "    .colab-df-convert {\n",
              "      background-color: #E8F0FE;\n",
              "      border: none;\n",
              "      border-radius: 50%;\n",
              "      cursor: pointer;\n",
              "      display: none;\n",
              "      fill: #1967D2;\n",
              "      height: 32px;\n",
              "      padding: 0 0 0 0;\n",
              "      width: 32px;\n",
              "    }\n",
              "\n",
              "    .colab-df-convert:hover {\n",
              "      background-color: #E2EBFA;\n",
              "      box-shadow: 0px 1px 2px rgba(60, 64, 67, 0.3), 0px 1px 3px 1px rgba(60, 64, 67, 0.15);\n",
              "      fill: #174EA6;\n",
              "    }\n",
              "\n",
              "    .colab-df-buttons div {\n",
              "      margin-bottom: 4px;\n",
              "    }\n",
              "\n",
              "    [theme=dark] .colab-df-convert {\n",
              "      background-color: #3B4455;\n",
              "      fill: #D2E3FC;\n",
              "    }\n",
              "\n",
              "    [theme=dark] .colab-df-convert:hover {\n",
              "      background-color: #434B5C;\n",
              "      box-shadow: 0px 1px 3px 1px rgba(0, 0, 0, 0.15);\n",
              "      filter: drop-shadow(0px 1px 2px rgba(0, 0, 0, 0.3));\n",
              "      fill: #FFFFFF;\n",
              "    }\n",
              "  </style>\n",
              "\n",
              "    <script>\n",
              "      const buttonEl =\n",
              "        document.querySelector('#df-f9eb39fc-0d84-43e6-af6b-4337df0eb48a button.colab-df-convert');\n",
              "      buttonEl.style.display =\n",
              "        google.colab.kernel.accessAllowed ? 'block' : 'none';\n",
              "\n",
              "      async function convertToInteractive(key) {\n",
              "        const element = document.querySelector('#df-f9eb39fc-0d84-43e6-af6b-4337df0eb48a');\n",
              "        const dataTable =\n",
              "          await google.colab.kernel.invokeFunction('convertToInteractive',\n",
              "                                                    [key], {});\n",
              "        if (!dataTable) return;\n",
              "\n",
              "        const docLinkHtml = 'Like what you see? Visit the ' +\n",
              "          '<a target=\"_blank\" href=https://colab.research.google.com/notebooks/data_table.ipynb>data table notebook</a>'\n",
              "          + ' to learn more about interactive tables.';\n",
              "        element.innerHTML = '';\n",
              "        dataTable['output_type'] = 'display_data';\n",
              "        await google.colab.output.renderOutput(dataTable, element);\n",
              "        const docLink = document.createElement('div');\n",
              "        docLink.innerHTML = docLinkHtml;\n",
              "        element.appendChild(docLink);\n",
              "      }\n",
              "    </script>\n",
              "  </div>\n",
              "\n",
              "\n",
              "<div id=\"df-e80dc558-7ca6-44c7-b0e8-416c00171907\">\n",
              "  <button class=\"colab-df-quickchart\" onclick=\"quickchart('df-e80dc558-7ca6-44c7-b0e8-416c00171907')\"\n",
              "            title=\"Suggest charts\"\n",
              "            style=\"display:none;\">\n",
              "\n",
              "<svg xmlns=\"http://www.w3.org/2000/svg\" height=\"24px\"viewBox=\"0 0 24 24\"\n",
              "     width=\"24px\">\n",
              "    <g>\n",
              "        <path d=\"M19 3H5c-1.1 0-2 .9-2 2v14c0 1.1.9 2 2 2h14c1.1 0 2-.9 2-2V5c0-1.1-.9-2-2-2zM9 17H7v-7h2v7zm4 0h-2V7h2v10zm4 0h-2v-4h2v4z\"/>\n",
              "    </g>\n",
              "</svg>\n",
              "  </button>\n",
              "\n",
              "<style>\n",
              "  .colab-df-quickchart {\n",
              "      --bg-color: #E8F0FE;\n",
              "      --fill-color: #1967D2;\n",
              "      --hover-bg-color: #E2EBFA;\n",
              "      --hover-fill-color: #174EA6;\n",
              "      --disabled-fill-color: #AAA;\n",
              "      --disabled-bg-color: #DDD;\n",
              "  }\n",
              "\n",
              "  [theme=dark] .colab-df-quickchart {\n",
              "      --bg-color: #3B4455;\n",
              "      --fill-color: #D2E3FC;\n",
              "      --hover-bg-color: #434B5C;\n",
              "      --hover-fill-color: #FFFFFF;\n",
              "      --disabled-bg-color: #3B4455;\n",
              "      --disabled-fill-color: #666;\n",
              "  }\n",
              "\n",
              "  .colab-df-quickchart {\n",
              "    background-color: var(--bg-color);\n",
              "    border: none;\n",
              "    border-radius: 50%;\n",
              "    cursor: pointer;\n",
              "    display: none;\n",
              "    fill: var(--fill-color);\n",
              "    height: 32px;\n",
              "    padding: 0;\n",
              "    width: 32px;\n",
              "  }\n",
              "\n",
              "  .colab-df-quickchart:hover {\n",
              "    background-color: var(--hover-bg-color);\n",
              "    box-shadow: 0 1px 2px rgba(60, 64, 67, 0.3), 0 1px 3px 1px rgba(60, 64, 67, 0.15);\n",
              "    fill: var(--button-hover-fill-color);\n",
              "  }\n",
              "\n",
              "  .colab-df-quickchart-complete:disabled,\n",
              "  .colab-df-quickchart-complete:disabled:hover {\n",
              "    background-color: var(--disabled-bg-color);\n",
              "    fill: var(--disabled-fill-color);\n",
              "    box-shadow: none;\n",
              "  }\n",
              "\n",
              "  .colab-df-spinner {\n",
              "    border: 2px solid var(--fill-color);\n",
              "    border-color: transparent;\n",
              "    border-bottom-color: var(--fill-color);\n",
              "    animation:\n",
              "      spin 1s steps(1) infinite;\n",
              "  }\n",
              "\n",
              "  @keyframes spin {\n",
              "    0% {\n",
              "      border-color: transparent;\n",
              "      border-bottom-color: var(--fill-color);\n",
              "      border-left-color: var(--fill-color);\n",
              "    }\n",
              "    20% {\n",
              "      border-color: transparent;\n",
              "      border-left-color: var(--fill-color);\n",
              "      border-top-color: var(--fill-color);\n",
              "    }\n",
              "    30% {\n",
              "      border-color: transparent;\n",
              "      border-left-color: var(--fill-color);\n",
              "      border-top-color: var(--fill-color);\n",
              "      border-right-color: var(--fill-color);\n",
              "    }\n",
              "    40% {\n",
              "      border-color: transparent;\n",
              "      border-right-color: var(--fill-color);\n",
              "      border-top-color: var(--fill-color);\n",
              "    }\n",
              "    60% {\n",
              "      border-color: transparent;\n",
              "      border-right-color: var(--fill-color);\n",
              "    }\n",
              "    80% {\n",
              "      border-color: transparent;\n",
              "      border-right-color: var(--fill-color);\n",
              "      border-bottom-color: var(--fill-color);\n",
              "    }\n",
              "    90% {\n",
              "      border-color: transparent;\n",
              "      border-bottom-color: var(--fill-color);\n",
              "    }\n",
              "  }\n",
              "</style>\n",
              "\n",
              "  <script>\n",
              "    async function quickchart(key) {\n",
              "      const quickchartButtonEl =\n",
              "        document.querySelector('#' + key + ' button');\n",
              "      quickchartButtonEl.disabled = true;  // To prevent multiple clicks.\n",
              "      quickchartButtonEl.classList.add('colab-df-spinner');\n",
              "      try {\n",
              "        const charts = await google.colab.kernel.invokeFunction(\n",
              "            'suggestCharts', [key], {});\n",
              "      } catch (error) {\n",
              "        console.error('Error during call to suggestCharts:', error);\n",
              "      }\n",
              "      quickchartButtonEl.classList.remove('colab-df-spinner');\n",
              "      quickchartButtonEl.classList.add('colab-df-quickchart-complete');\n",
              "    }\n",
              "    (() => {\n",
              "      let quickchartButtonEl =\n",
              "        document.querySelector('#df-e80dc558-7ca6-44c7-b0e8-416c00171907 button');\n",
              "      quickchartButtonEl.style.display =\n",
              "        google.colab.kernel.accessAllowed ? 'block' : 'none';\n",
              "    })();\n",
              "  </script>\n",
              "</div>\n",
              "\n",
              "  <div id=\"id_2c4ee5d8-1c8c-4f4f-8cde-d3eabf735b62\">\n",
              "    <style>\n",
              "      .colab-df-generate {\n",
              "        background-color: #E8F0FE;\n",
              "        border: none;\n",
              "        border-radius: 50%;\n",
              "        cursor: pointer;\n",
              "        display: none;\n",
              "        fill: #1967D2;\n",
              "        height: 32px;\n",
              "        padding: 0 0 0 0;\n",
              "        width: 32px;\n",
              "      }\n",
              "\n",
              "      .colab-df-generate:hover {\n",
              "        background-color: #E2EBFA;\n",
              "        box-shadow: 0px 1px 2px rgba(60, 64, 67, 0.3), 0px 1px 3px 1px rgba(60, 64, 67, 0.15);\n",
              "        fill: #174EA6;\n",
              "      }\n",
              "\n",
              "      [theme=dark] .colab-df-generate {\n",
              "        background-color: #3B4455;\n",
              "        fill: #D2E3FC;\n",
              "      }\n",
              "\n",
              "      [theme=dark] .colab-df-generate:hover {\n",
              "        background-color: #434B5C;\n",
              "        box-shadow: 0px 1px 3px 1px rgba(0, 0, 0, 0.15);\n",
              "        filter: drop-shadow(0px 1px 2px rgba(0, 0, 0, 0.3));\n",
              "        fill: #FFFFFF;\n",
              "      }\n",
              "    </style>\n",
              "    <button class=\"colab-df-generate\" onclick=\"generateWithVariable('df')\"\n",
              "            title=\"Generate code using this dataframe.\"\n",
              "            style=\"display:none;\">\n",
              "\n",
              "  <svg xmlns=\"http://www.w3.org/2000/svg\" height=\"24px\"viewBox=\"0 0 24 24\"\n",
              "       width=\"24px\">\n",
              "    <path d=\"M7,19H8.4L18.45,9,17,7.55,7,17.6ZM5,21V16.75L18.45,3.32a2,2,0,0,1,2.83,0l1.4,1.43a1.91,1.91,0,0,1,.58,1.4,1.91,1.91,0,0,1-.58,1.4L9.25,21ZM18.45,9,17,7.55Zm-12,3A5.31,5.31,0,0,0,4.9,8.1,5.31,5.31,0,0,0,1,6.5,5.31,5.31,0,0,0,4.9,4.9,5.31,5.31,0,0,0,6.5,1,5.31,5.31,0,0,0,8.1,4.9,5.31,5.31,0,0,0,12,6.5,5.46,5.46,0,0,0,6.5,12Z\"/>\n",
              "  </svg>\n",
              "    </button>\n",
              "    <script>\n",
              "      (() => {\n",
              "      const buttonEl =\n",
              "        document.querySelector('#id_2c4ee5d8-1c8c-4f4f-8cde-d3eabf735b62 button.colab-df-generate');\n",
              "      buttonEl.style.display =\n",
              "        google.colab.kernel.accessAllowed ? 'block' : 'none';\n",
              "\n",
              "      buttonEl.onclick = () => {\n",
              "        google.colab.notebook.generateWithVariable('df');\n",
              "      }\n",
              "      })();\n",
              "    </script>\n",
              "  </div>\n",
              "\n",
              "    </div>\n",
              "  </div>\n"
            ],
            "application/vnd.google.colaboratory.intrinsic+json": {
              "type": "dataframe",
              "variable_name": "df",
              "summary": "{\n  \"name\": \"df\",\n  \"rows\": 2063,\n  \"fields\": [\n    {\n      \"column\": \" Close\",\n      \"properties\": {\n        \"dtype\": \"number\",\n        \"std\": 37.45364967983707,\n        \"min\": 48.0,\n        \"max\": 254.75,\n        \"num_unique_values\": 717,\n        \"samples\": [\n          106.1,\n          73.1,\n          112.0\n        ],\n        \"semantic_type\": \"\",\n        \"description\": \"\"\n      }\n    }\n  ]\n}"
            }
          },
          "metadata": {},
          "execution_count": 20
        }
      ]
    },
    {
      "cell_type": "code",
      "source": [
        "# Displaying the shape (number of rows and columns) of the DataFrame\n",
        "df.shape"
      ],
      "metadata": {
        "colab": {
          "base_uri": "https://localhost:8080/"
        },
        "id": "dwRz0WFirHEY",
        "outputId": "38bb77d2-ba45-4a46-c071-2c65224f2916"
      },
      "execution_count": null,
      "outputs": [
        {
          "output_type": "execute_result",
          "data": {
            "text/plain": [
              "(2063, 1)"
            ]
          },
          "metadata": {},
          "execution_count": 21
        }
      ]
    },
    {
      "cell_type": "code",
      "source": [
        "plt.plot(df.index, df[' Close'])"
      ],
      "metadata": {
        "colab": {
          "base_uri": "https://localhost:8080/",
          "height": 447
        },
        "id": "465ZP-CeB59h",
        "outputId": "2d1c1191-8531-470b-b88b-0b3bae3db286"
      },
      "execution_count": null,
      "outputs": [
        {
          "output_type": "execute_result",
          "data": {
            "text/plain": [
              "[<matplotlib.lines.Line2D at 0x7e1c9b8719f0>]"
            ]
          },
          "metadata": {},
          "execution_count": 22
        },
        {
          "output_type": "display_data",
          "data": {
            "text/plain": [
              "<Figure size 640x480 with 1 Axes>"
            ],
            "image/png": "[encoded data removed]"
          },
          "metadata": {}
        }
      ]
    },
    {
      "cell_type": "code",
      "source": [
        "# Applying MinMaxScaler to scale down the 'Close' values between 0 and 1 to make them suitable for neural network training\n",
        "scaler = MinMaxScaler(feature_range=(0,1))\n",
        "\n",
        " # Reshaping and transforming the 'Close' values\n",
        "df = scaler.fit_transform(np.array(df).reshape(-1,1))\n",
        "\n",
        "# Displaying the transformed 'Close' values\n",
        "df"
      ],
      "metadata": {
        "id": "xJjnA26opg1K",
        "colab": {
          "base_uri": "https://localhost:8080/"
        },
        "outputId": "c7a462c5-0176-4413-f5c0-9fbbcf00a0b8"
      },
      "execution_count": null,
      "outputs": [
        {
          "output_type": "execute_result",
          "data": {
            "text/plain": [
              "array([[0.25634825],\n",
              "       [0.25102781],\n",
              "       [0.26311971],\n",
              "       ...,\n",
              "       [0.56469166],\n",
              "       [0.54897219],\n",
              "       [0.52116082]])"
            ]
          },
          "metadata": {},
          "execution_count": 23
        }
      ]
    },
    {
      "cell_type": "markdown",
      "source": [
        "#Train - Test Split"
      ],
      "metadata": {
        "id": "GE33XvRKuWIi"
      }
    },
    {
      "cell_type": "code",
      "source": [
        "# Calculating the size of the training data as 80% of the total data\n",
        "training_size = int(len(df)*0.80)\n",
        "# Calculating the size of the test data as the remaining 20% of the total data\n",
        "test_size = len(df)-training_size\n",
        "\n",
        "# Slicing the DataFrame 'df' to extract the training data and test data based on the calculated sizes\n",
        "train_data, test_data = df[0:training_size,:], df[training_size:len(df),:1]\n",
        "\n",
        "# Displaying the sizes of the training data and test data\n",
        "training_size, test_size"
      ],
      "metadata": {
        "id": "LrBR1JU9IfMZ",
        "colab": {
          "base_uri": "https://localhost:8080/"
        },
        "outputId": "ea3bf968-3ddd-4431-8fe2-9f26f4fba57c"
      },
      "execution_count": null,
      "outputs": [
        {
          "output_type": "execute_result",
          "data": {
            "text/plain": [
              "(1650, 413)"
            ]
          },
          "metadata": {},
          "execution_count": 24
        }
      ]
    },
    {
      "cell_type": "markdown",
      "source": [
        "#Data Preprocessing"
      ],
      "metadata": {
        "id": "Wu2ul-R4IhEJ"
      }
    },
    {
      "cell_type": "code",
      "source": [
        "# Convert an array of values into a dataset matrix\n",
        "def create_dataset(dataset, time_step=1):\n",
        "  dataX, dataY = [], []\n",
        "  # Loop through the dataset to create samples with the specified time steps\n",
        "  for i in range(len(dataset) - time_step-1):\n",
        "    a = dataset[i:(i+time_step), 0]\n",
        "    dataX.append(a)\n",
        "    dataY.append(dataset[i + time_step, 0])\n",
        "  return np.array(dataX), np.array(dataY)"
      ],
      "metadata": {
        "id": "1Ne5hH6juJET"
      },
      "execution_count": null,
      "outputs": []
    },
    {
      "cell_type": "code",
      "source": [
        "# Define the number of time steps for creating the dataset matrix\n",
        "time_step = 100\n",
        "\n",
        "# Create training and test dataset matrices using the create_dataset function\n",
        "X_train, y_train = create_dataset(train_data, time_step)\n",
        "X_test, y_test = create_dataset(test_data, time_step)"
      ],
      "metadata": {
        "id": "m8BdXSXKrHzS"
      },
      "execution_count": null,
      "outputs": []
    },
    {
      "cell_type": "code",
      "source": [
        "# Print the shapes of the training dataset matrices\n",
        "print(X_train.shape), print(y_train.shape)"
      ],
      "metadata": {
        "id": "H-zfseWvIo5X",
        "colab": {
          "base_uri": "https://localhost:8080/"
        },
        "outputId": "03aa3cf8-67c4-41e2-c742-e461de4c0988"
      },
      "execution_count": null,
      "outputs": [
        {
          "output_type": "stream",
          "name": "stdout",
          "text": [
            "(1549, 100)\n",
            "(1549,)\n"
          ]
        },
        {
          "output_type": "execute_result",
          "data": {
            "text/plain": [
              "(None, None)"
            ]
          },
          "metadata": {},
          "execution_count": 29
        }
      ]
    },
    {
      "cell_type": "code",
      "source": [
        "# Print the shapes of the test dataset matrices\n",
        "print(X_test.shape), print(y_test.shape)"
      ],
      "metadata": {
        "id": "ECUswxyyxkm5",
        "colab": {
          "base_uri": "https://localhost:8080/"
        },
        "outputId": "63e2e4ef-a146-482c-df7c-1c6ef80db520"
      },
      "execution_count": null,
      "outputs": [
        {
          "output_type": "stream",
          "name": "stdout",
          "text": [
            "(312, 100)\n",
            "(312,)\n"
          ]
        },
        {
          "output_type": "execute_result",
          "data": {
            "text/plain": [
              "(None, None)"
            ]
          },
          "metadata": {},
          "execution_count": 30
        }
      ]
    },
    {
      "cell_type": "markdown",
      "source": [
        "##Reshaping the Input to be [Samples, time steps, features] which is required for LSTM"
      ],
      "metadata": {
        "id": "yEE4_YOcwBkV"
      }
    },
    {
      "cell_type": "code",
      "source": [
        "X_train = X_train.reshape(X_train.shape[0], X_train.shape[1], 1)\n",
        "X_test = X_test.reshape(X_test.shape[0], X_test.shape[1], 1)"
      ],
      "metadata": {
        "id": "1I7kZsXRyVSO"
      },
      "execution_count": null,
      "outputs": []
    },
    {
      "cell_type": "markdown",
      "source": [
        "#Constructing the LSTM Model"
      ],
      "metadata": {
        "id": "d-7RlCq1JPhM"
      }
    },
    {
      "cell_type": "code",
      "source": [
        "# Create the Stacked LSTM Model\n",
        "\n",
        "# Initialize a sequential model\n",
        "model = Sequential()\n",
        "# Add the first LSTM layer with 50 units, return sequences for the next layer, and specify the input shape\n",
        "model.add(LSTM(50, return_sequences=True, input_shape=(100,1)))\n",
        "# Add the second LSTM layer with 50 units and return sequences\n",
        "model.add(LSTM(50, return_sequences=True))\n",
        "# Add the third LSTM layer with 50 units\n",
        "model.add(LSTM(50))\n",
        "# Add a dense layer with one neuron for output prediction\n",
        "model.add(Dense(1))\n",
        "\n",
        "# Compile the model with mean squared error loss and Adam optimizer\n",
        "model.compile(loss='mean_squared_error', optimizer='adam')\n"
      ],
      "metadata": {
        "id": "hqD8aloAycFh"
      },
      "execution_count": null,
      "outputs": []
    },
    {
      "cell_type": "code",
      "source": [
        "# Display the summary of the model architecture\n",
        "model.summary()"
      ],
      "metadata": {
        "colab": {
          "base_uri": "https://localhost:8080/"
        },
        "id": "HmbH67D3zHDs",
        "outputId": "2a111073-da98-4d91-caf7-6a059a5c59a0"
      },
      "execution_count": null,
      "outputs": [
        {
          "output_type": "stream",
          "name": "stdout",
          "text": [
            "Model: \"sequential_1\"\n",
            "_________________________________________________________________\n",
            " Layer (type)                Output Shape              Param #   \n",
            "=================================================================\n",
            " lstm_3 (LSTM)               (None, 100, 50)           10400     \n",
            "                                                                 \n",
            " lstm_4 (LSTM)               (None, 100, 50)           20200     \n",
            "                                                                 \n",
            " lstm_5 (LSTM)               (None, 50)                20200     \n",
            "                                                                 \n",
            " dense_1 (Dense)             (None, 1)                 51        \n",
            "                                                                 \n",
            "=================================================================\n",
            "Total params: 50851 (198.64 KB)\n",
            "Trainable params: 50851 (198.64 KB)\n",
            "Non-trainable params: 0 (0.00 Byte)\n",
            "_________________________________________________________________\n"
          ]
        }
      ]
    },
    {
      "cell_type": "markdown",
      "source": [
        "#Training the Model"
      ],
      "metadata": {
        "id": "IVaULLfRS9_r"
      }
    },
    {
      "cell_type": "code",
      "source": [
        "# Train the model using the training data and validate it on the test data\n",
        "model.fit(X_train, y_train, validation_data=(X_test, y_test),epochs = 100, batch_size=64, verbose=1)"
      ],
      "metadata": {
        "id": "kUpLpLl-JlfC",
        "colab": {
          "base_uri": "https://localhost:8080/"
        },
        "outputId": "0615deaa-e1c0-406b-adb5-390a697cba96"
      },
      "execution_count": null,
      "outputs": [
        {
          "output_type": "stream",
          "name": "stdout",
          "text": [
            "Epoch 1/100\n",
            "25/25 [==============================] - 12s 267ms/step - loss: 0.0199 - val_loss: 0.0027\n",
            "Epoch 2/100\n",
            "25/25 [==============================] - 5s 200ms/step - loss: 0.0027 - val_loss: 0.0030\n",
            "Epoch 3/100\n",
            "25/25 [==============================] - 4s 179ms/step - loss: 0.0017 - val_loss: 0.0017\n",
            "Epoch 4/100\n",
            "25/25 [==============================] - 6s 246ms/step - loss: 0.0016 - val_loss: 0.0016\n",
            "Epoch 5/100\n",
            "25/25 [==============================] - 5s 182ms/step - loss: 0.0015 - val_loss: 0.0015\n",
            "Epoch 6/100\n",
            "25/25 [==============================] - 4s 179ms/step - loss: 0.0014 - val_loss: 0.0015\n",
            "Epoch 7/100\n",
            "25/25 [==============================] - 8s 309ms/step - loss: 0.0014 - val_loss: 0.0012\n",
            "Epoch 8/100\n",
            "25/25 [==============================] - 5s 182ms/step - loss: 0.0013 - val_loss: 0.0011\n",
            "Epoch 9/100\n",
            "25/25 [==============================] - 5s 211ms/step - loss: 0.0012 - val_loss: 0.0010\n",
            "Epoch 10/100\n",
            "25/25 [==============================] - 5s 214ms/step - loss: 0.0012 - val_loss: 9.5772e-04\n",
            "Epoch 11/100\n",
            "25/25 [==============================] - 5s 183ms/step - loss: 0.0011 - val_loss: 8.9314e-04\n",
            "Epoch 12/100\n",
            "25/25 [==============================] - 6s 231ms/step - loss: 0.0010 - val_loss: 0.0011\n",
            "Epoch 13/100\n",
            "25/25 [==============================] - 5s 189ms/step - loss: 9.8882e-04 - val_loss: 0.0011\n",
            "Epoch 14/100\n",
            "25/25 [==============================] - 4s 180ms/step - loss: 9.3669e-04 - val_loss: 8.5502e-04\n",
            "Epoch 15/100\n",
            "25/25 [==============================] - 6s 242ms/step - loss: 0.0012 - val_loss: 0.0010\n",
            "Epoch 16/100\n",
            "25/25 [==============================] - 5s 182ms/step - loss: 0.0011 - val_loss: 9.1254e-04\n",
            "Epoch 17/100\n",
            "25/25 [==============================] - 5s 182ms/step - loss: 8.8027e-04 - val_loss: 8.6110e-04\n",
            "Epoch 18/100\n",
            "25/25 [==============================] - 6s 244ms/step - loss: 8.7779e-04 - val_loss: 0.0010\n",
            "Epoch 19/100\n",
            "25/25 [==============================] - 4s 180ms/step - loss: 8.4669e-04 - val_loss: 8.4980e-04\n",
            "Epoch 20/100\n",
            "25/25 [==============================] - 5s 185ms/step - loss: 8.1414e-04 - val_loss: 8.5749e-04\n",
            "Epoch 21/100\n",
            "25/25 [==============================] - 6s 233ms/step - loss: 8.6134e-04 - val_loss: 8.5455e-04\n",
            "Epoch 22/100\n",
            "25/25 [==============================] - 5s 181ms/step - loss: 8.3330e-04 - val_loss: 0.0015\n",
            "Epoch 23/100\n",
            "25/25 [==============================] - 6s 236ms/step - loss: 8.1676e-04 - val_loss: 9.5856e-04\n",
            "Epoch 24/100\n",
            "25/25 [==============================] - 6s 199ms/step - loss: 7.6680e-04 - val_loss: 0.0015\n",
            "Epoch 25/100\n",
            "25/25 [==============================] - 4s 180ms/step - loss: 9.1741e-04 - val_loss: 7.8288e-04\n",
            "Epoch 26/100\n",
            "25/25 [==============================] - 6s 241ms/step - loss: 7.7112e-04 - val_loss: 8.5850e-04\n",
            "Epoch 27/100\n",
            "25/25 [==============================] - 4s 180ms/step - loss: 7.1053e-04 - val_loss: 7.8897e-04\n",
            "Epoch 28/100\n",
            "25/25 [==============================] - 5s 182ms/step - loss: 6.9553e-04 - val_loss: 7.5820e-04\n",
            "Epoch 29/100\n",
            "25/25 [==============================] - 6s 243ms/step - loss: 6.5734e-04 - val_loss: 7.3969e-04\n",
            "Epoch 30/100\n",
            "25/25 [==============================] - 4s 180ms/step - loss: 6.5194e-04 - val_loss: 0.0014\n",
            "Epoch 31/100\n",
            "25/25 [==============================] - 4s 180ms/step - loss: 6.6586e-04 - val_loss: 7.2596e-04\n",
            "Epoch 32/100\n",
            "25/25 [==============================] - 6s 239ms/step - loss: 6.0390e-04 - val_loss: 0.0013\n",
            "Epoch 33/100\n",
            "25/25 [==============================] - 5s 182ms/step - loss: 6.5455e-04 - val_loss: 6.7245e-04\n",
            "Epoch 34/100\n",
            "25/25 [==============================] - 5s 204ms/step - loss: 6.2171e-04 - val_loss: 7.6973e-04\n",
            "Epoch 35/100\n",
            "25/25 [==============================] - 6s 232ms/step - loss: 5.9180e-04 - val_loss: 7.7352e-04\n",
            "Epoch 36/100\n",
            "25/25 [==============================] - 8s 339ms/step - loss: 5.9160e-04 - val_loss: 6.4125e-04\n",
            "Epoch 37/100\n",
            "25/25 [==============================] - 5s 215ms/step - loss: 5.6259e-04 - val_loss: 6.3309e-04\n",
            "Epoch 38/100\n",
            "25/25 [==============================] - 5s 182ms/step - loss: 5.4187e-04 - val_loss: 0.0013\n",
            "Epoch 39/100\n",
            "25/25 [==============================] - 6s 233ms/step - loss: 5.9950e-04 - val_loss: 6.3656e-04\n",
            "Epoch 40/100\n",
            "25/25 [==============================] - 9s 356ms/step - loss: 5.1574e-04 - val_loss: 9.0149e-04\n",
            "Epoch 41/100\n",
            "25/25 [==============================] - 8s 310ms/step - loss: 6.3460e-04 - val_loss: 5.9012e-04\n",
            "Epoch 42/100\n",
            "25/25 [==============================] - 5s 181ms/step - loss: 5.4384e-04 - val_loss: 7.5561e-04\n",
            "Epoch 43/100\n",
            "25/25 [==============================] - 5s 198ms/step - loss: 5.3829e-04 - val_loss: 9.8280e-04\n",
            "Epoch 44/100\n",
            "25/25 [==============================] - 6s 229ms/step - loss: 5.5341e-04 - val_loss: 5.6124e-04\n",
            "Epoch 45/100\n",
            "25/25 [==============================] - 5s 211ms/step - loss: 4.8271e-04 - val_loss: 8.0256e-04\n",
            "Epoch 46/100\n",
            "25/25 [==============================] - 6s 241ms/step - loss: 5.1126e-04 - val_loss: 0.0010\n",
            "Epoch 47/100\n",
            "25/25 [==============================] - 5s 184ms/step - loss: 4.7858e-04 - val_loss: 5.6816e-04\n",
            "Epoch 48/100\n",
            "25/25 [==============================] - 5s 183ms/step - loss: 4.5839e-04 - val_loss: 8.4089e-04\n",
            "Epoch 49/100\n",
            "25/25 [==============================] - 6s 246ms/step - loss: 4.6637e-04 - val_loss: 5.2409e-04\n",
            "Epoch 50/100\n",
            "25/25 [==============================] - 5s 185ms/step - loss: 4.7366e-04 - val_loss: 7.0660e-04\n",
            "Epoch 51/100\n",
            "25/25 [==============================] - 5s 185ms/step - loss: 4.5934e-04 - val_loss: 5.3193e-04\n",
            "Epoch 52/100\n",
            "25/25 [==============================] - 6s 243ms/step - loss: 4.2640e-04 - val_loss: 4.9966e-04\n",
            "Epoch 53/100\n",
            "25/25 [==============================] - 5s 185ms/step - loss: 4.9743e-04 - val_loss: 5.8893e-04\n",
            "Epoch 54/100\n",
            "25/25 [==============================] - 5s 215ms/step - loss: 4.1675e-04 - val_loss: 5.4612e-04\n",
            "Epoch 55/100\n",
            "25/25 [==============================] - 5s 209ms/step - loss: 4.1300e-04 - val_loss: 5.7689e-04\n",
            "Epoch 56/100\n",
            "25/25 [==============================] - 5s 180ms/step - loss: 4.2512e-04 - val_loss: 6.9399e-04\n",
            "Epoch 57/100\n",
            "25/25 [==============================] - 6s 244ms/step - loss: 4.4370e-04 - val_loss: 4.6519e-04\n",
            "Epoch 58/100\n",
            "25/25 [==============================] - 5s 180ms/step - loss: 4.9447e-04 - val_loss: 7.6026e-04\n",
            "Epoch 59/100\n",
            "25/25 [==============================] - 5s 182ms/step - loss: 4.1491e-04 - val_loss: 4.9570e-04\n",
            "Epoch 60/100\n",
            "25/25 [==============================] - 6s 241ms/step - loss: 3.7909e-04 - val_loss: 4.8650e-04\n",
            "Epoch 61/100\n",
            "25/25 [==============================] - 5s 181ms/step - loss: 3.7978e-04 - val_loss: 4.9033e-04\n",
            "Epoch 62/100\n",
            "25/25 [==============================] - 4s 179ms/step - loss: 3.8633e-04 - val_loss: 4.6067e-04\n",
            "Epoch 63/100\n",
            "25/25 [==============================] - 6s 243ms/step - loss: 3.6042e-04 - val_loss: 4.6760e-04\n",
            "Epoch 64/100\n",
            "25/25 [==============================] - 4s 180ms/step - loss: 4.3080e-04 - val_loss: 4.8797e-04\n",
            "Epoch 65/100\n",
            "25/25 [==============================] - 6s 244ms/step - loss: 3.7422e-04 - val_loss: 4.2693e-04\n",
            "Epoch 66/100\n",
            "25/25 [==============================] - 6s 221ms/step - loss: 3.6495e-04 - val_loss: 0.0011\n",
            "Epoch 67/100\n",
            "25/25 [==============================] - 9s 375ms/step - loss: 5.0077e-04 - val_loss: 4.2076e-04\n",
            "Epoch 68/100\n",
            "25/25 [==============================] - 5s 195ms/step - loss: 3.6574e-04 - val_loss: 5.0438e-04\n",
            "Epoch 69/100\n",
            "25/25 [==============================] - 6s 264ms/step - loss: 3.4632e-04 - val_loss: 4.2273e-04\n",
            "Epoch 70/100\n",
            "25/25 [==============================] - 9s 349ms/step - loss: 3.7589e-04 - val_loss: 4.0472e-04\n",
            "Epoch 71/100\n",
            "25/25 [==============================] - 5s 200ms/step - loss: 3.6419e-04 - val_loss: 6.5380e-04\n",
            "Epoch 72/100\n",
            "25/25 [==============================] - 7s 297ms/step - loss: 3.5241e-04 - val_loss: 3.9349e-04\n",
            "Epoch 73/100\n",
            "25/25 [==============================] - 5s 183ms/step - loss: 3.3270e-04 - val_loss: 5.9693e-04\n",
            "Epoch 74/100\n",
            "25/25 [==============================] - 6s 232ms/step - loss: 3.4515e-04 - val_loss: 5.5897e-04\n",
            "Epoch 75/100\n",
            "25/25 [==============================] - 5s 190ms/step - loss: 3.9289e-04 - val_loss: 3.8473e-04\n",
            "Epoch 76/100\n",
            "25/25 [==============================] - 5s 180ms/step - loss: 3.3015e-04 - val_loss: 3.7623e-04\n",
            "Epoch 77/100\n",
            "25/25 [==============================] - 7s 276ms/step - loss: 3.4967e-04 - val_loss: 5.2998e-04\n",
            "Epoch 78/100\n",
            "25/25 [==============================] - 6s 248ms/step - loss: 3.8635e-04 - val_loss: 4.7210e-04\n",
            "Epoch 79/100\n",
            "25/25 [==============================] - 6s 245ms/step - loss: 3.2819e-04 - val_loss: 3.8558e-04\n",
            "Epoch 80/100\n",
            "25/25 [==============================] - 7s 284ms/step - loss: 3.2517e-04 - val_loss: 3.9609e-04\n",
            "Epoch 81/100\n",
            "25/25 [==============================] - 7s 286ms/step - loss: 3.3895e-04 - val_loss: 3.8298e-04\n",
            "Epoch 82/100\n",
            "25/25 [==============================] - 5s 184ms/step - loss: 3.2859e-04 - val_loss: 4.8589e-04\n",
            "Epoch 83/100\n",
            "25/25 [==============================] - 5s 181ms/step - loss: 3.8185e-04 - val_loss: 4.3598e-04\n",
            "Epoch 84/100\n",
            "25/25 [==============================] - 7s 289ms/step - loss: 3.4378e-04 - val_loss: 7.7130e-04\n",
            "Epoch 85/100\n",
            "25/25 [==============================] - 6s 226ms/step - loss: 3.4382e-04 - val_loss: 4.5391e-04\n",
            "Epoch 86/100\n",
            "25/25 [==============================] - 7s 301ms/step - loss: 3.5509e-04 - val_loss: 5.1325e-04\n",
            "Epoch 87/100\n",
            "25/25 [==============================] - 6s 246ms/step - loss: 3.3574e-04 - val_loss: 3.7976e-04\n",
            "Epoch 88/100\n",
            "25/25 [==============================] - 5s 204ms/step - loss: 3.1695e-04 - val_loss: 5.3474e-04\n",
            "Epoch 89/100\n",
            "25/25 [==============================] - 6s 220ms/step - loss: 3.5118e-04 - val_loss: 3.7291e-04\n",
            "Epoch 90/100\n",
            "25/25 [==============================] - 5s 203ms/step - loss: 3.2390e-04 - val_loss: 4.5544e-04\n",
            "Epoch 91/100\n",
            "25/25 [==============================] - 8s 315ms/step - loss: 3.1613e-04 - val_loss: 3.9030e-04\n",
            "Epoch 92/100\n",
            "25/25 [==============================] - 5s 182ms/step - loss: 3.2691e-04 - val_loss: 3.5581e-04\n",
            "Epoch 93/100\n",
            "25/25 [==============================] - 5s 198ms/step - loss: 3.6285e-04 - val_loss: 4.0383e-04\n",
            "Epoch 94/100\n",
            "25/25 [==============================] - 7s 272ms/step - loss: 3.4570e-04 - val_loss: 5.6869e-04\n",
            "Epoch 95/100\n",
            "25/25 [==============================] - 6s 243ms/step - loss: 3.3505e-04 - val_loss: 5.4958e-04\n",
            "Epoch 96/100\n",
            "25/25 [==============================] - 8s 307ms/step - loss: 3.1335e-04 - val_loss: 3.5784e-04\n",
            "Epoch 97/100\n",
            "25/25 [==============================] - 6s 233ms/step - loss: 3.3373e-04 - val_loss: 3.5396e-04\n",
            "Epoch 98/100\n",
            "25/25 [==============================] - 8s 321ms/step - loss: 3.1635e-04 - val_loss: 5.1651e-04\n",
            "Epoch 99/100\n",
            "25/25 [==============================] - 7s 289ms/step - loss: 3.5440e-04 - val_loss: 5.6399e-04\n",
            "Epoch 100/100\n",
            "25/25 [==============================] - 8s 305ms/step - loss: 3.0212e-04 - val_loss: 3.8701e-04\n"
          ]
        },
        {
          "output_type": "execute_result",
          "data": {
            "text/plain": [
              "<keras.src.callbacks.History at 0x7e1c981ef550>"
            ]
          },
          "metadata": {},
          "execution_count": 34
        }
      ]
    },
    {
      "cell_type": "markdown",
      "source": [
        "# Forecasting 'Close' Stock Price Values for the Test Data Set"
      ],
      "metadata": {
        "id": "fXnLc9C6TEUE"
      }
    },
    {
      "cell_type": "code",
      "source": [
        "# Generate predictions on the training and test datasets using the trained model\n",
        "train_predict = model.predict(X_train)\n",
        "test_predict = model.predict(X_test)"
      ],
      "metadata": {
        "id": "0eaEzHjcJumN",
        "colab": {
          "base_uri": "https://localhost:8080/"
        },
        "outputId": "cb76c008-2266-4d88-f6c8-39b9b058c3dd"
      },
      "execution_count": null,
      "outputs": [
        {
          "output_type": "stream",
          "name": "stdout",
          "text": [
            "49/49 [==============================] - 4s 60ms/step\n",
            "10/10 [==============================] - 0s 41ms/step\n"
          ]
        }
      ]
    },
    {
      "cell_type": "code",
      "source": [
        "# Transform the predicted values back to their original scale\n",
        "train_predict = scaler.inverse_transform(train_predict)\n",
        "test_predict = scaler.inverse_transform(test_predict)"
      ],
      "metadata": {
        "id": "j-AgaZLn0GGA"
      },
      "execution_count": null,
      "outputs": []
    },
    {
      "cell_type": "markdown",
      "source": [
        "#Calculating RMSE"
      ],
      "metadata": {
        "id": "w0aWl5hJSuo6"
      }
    },
    {
      "cell_type": "code",
      "source": [
        "# Calculate RMSE for training predictions\n",
        "math.sqrt(mean_squared_error(y_train, train_predict))"
      ],
      "metadata": {
        "id": "MlTiHlXSK8Lw",
        "colab": {
          "base_uri": "https://localhost:8080/"
        },
        "outputId": "58473fba-84fc-4c24-d014-c427d004d942"
      },
      "execution_count": null,
      "outputs": [
        {
          "output_type": "execute_result",
          "data": {
            "text/plain": [
              "115.74977651221968"
            ]
          },
          "metadata": {},
          "execution_count": 38
        }
      ]
    },
    {
      "cell_type": "code",
      "source": [
        "# Test data RMSE\n",
        "math.sqrt(mean_squared_error(y_test, test_predict))"
      ],
      "metadata": {
        "id": "iU61Rvh0LMHU",
        "colab": {
          "base_uri": "https://localhost:8080/"
        },
        "outputId": "7a57d680-2cb4-4845-f0d0-80fbe109c721"
      },
      "execution_count": null,
      "outputs": [
        {
          "output_type": "execute_result",
          "data": {
            "text/plain": [
              "153.82224725343377"
            ]
          },
          "metadata": {},
          "execution_count": 39
        }
      ]
    },
    {
      "cell_type": "markdown",
      "source": [
        "# Visualizing the Predictions"
      ],
      "metadata": {
        "id": "Ypq9Vv0ITwyH"
      }
    },
    {
      "cell_type": "code",
      "source": [
        "# Define the number of previous time steps used for prediction\n",
        "look_back=100\n",
        "\n",
        "# Create arrays to plot the predictions against the original data\n",
        "trainPredictPlot = np.empty_like(df)\n",
        "trainPredictPlot[:, :] = np.nan\n",
        "trainPredictPlot[look_back:len(train_predict)+look_back, :] = train_predict\n",
        "\n",
        "# Shift the test predictions to align them correctly for plotting\n",
        "testPredictPlot = np.empty_like(df)\n",
        "testPredictPlot[:, :] = np.nan\n",
        "testPredictPlot[len(train_predict)+(look_back*2)+1:len(df)-1, :] = test_predict\n",
        "\n",
        "# Plot the original data, training predictions, and test predictions\n",
        "plt.plot(scaler.inverse_transform(df)) # Original data\n",
        "plt.plot(trainPredictPlot) # Training predictions\n",
        "plt.plot(testPredictPlot) # Test predictions\n",
        "plt.legend(['Original Data', 'Training Predictions', 'Testing Predictions'])\n",
        "# Display the plot\n",
        "plt.show()"
      ],
      "metadata": {
        "colab": {
          "base_uri": "https://localhost:8080/",
          "height": 430
        },
        "id": "kVCK9GpgSsNU",
        "outputId": "bd9b8ca3-2c24-4323-e30d-eb8a573c31fd"
      },
      "execution_count": 44,
      "outputs": [
        {
          "output_type": "display_data",
          "data": {
            "text/plain": [
              "<Figure size 640x480 with 1 Axes>"
            ],
            "image/png": "[encoded data removed]"
          },
          "metadata": {}
        }
      ]
    }
  ]
}